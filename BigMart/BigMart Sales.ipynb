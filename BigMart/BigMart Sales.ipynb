{
 "cells": [
  {
   "cell_type": "markdown",
   "metadata": {},
   "source": [
    "# Bigmart Sales Data Set\n",
    "\n",
    "Retail is another industry which extensively uses analytics to optimize business processes. Tasks like product placement, inventory management, customized offers, product bundling, etc. are being smartly handled using data science techniques. As the name suggests, this data comprises of transaction records of a sales store. This is a regression problem. The data has 8523 rows of 12 variables.\n",
    "\n",
    "<b>Problem</b>: Predict the sales of a store."
   ]
  },
  {
   "cell_type": "code",
   "execution_count": 1,
   "metadata": {},
   "outputs": [],
   "source": [
    "import numpy as np\n",
    "import pandas as pd\n",
    "import matplotlib.pyplot as plt\n",
    "from sklearn.model_selection import train_test_split\n",
    "from classifiers import LinearRegression\n",
    "from classifiers import ClassicLinearRegression\n",
    "%load_ext autoreload\n",
    "%autoreload 2"
   ]
  },
  {
   "cell_type": "markdown",
   "metadata": {},
   "source": [
    "We have the training data in CSV format. First step is to read it in pandas dataframe"
   ]
  },
  {
   "cell_type": "code",
   "execution_count": 2,
   "metadata": {},
   "outputs": [
    {
     "data": {
      "text/html": [
       "<div>\n",
       "<style scoped>\n",
       "    .dataframe tbody tr th:only-of-type {\n",
       "        vertical-align: middle;\n",
       "    }\n",
       "\n",
       "    .dataframe tbody tr th {\n",
       "        vertical-align: top;\n",
       "    }\n",
       "\n",
       "    .dataframe thead th {\n",
       "        text-align: right;\n",
       "    }\n",
       "</style>\n",
       "<table border=\"1\" class=\"dataframe\">\n",
       "  <thead>\n",
       "    <tr style=\"text-align: right;\">\n",
       "      <th></th>\n",
       "      <th>Item_Identifier</th>\n",
       "      <th>Item_Weight</th>\n",
       "      <th>Item_Fat_Content</th>\n",
       "      <th>Item_Visibility</th>\n",
       "      <th>Item_Type</th>\n",
       "      <th>Item_MRP</th>\n",
       "      <th>Outlet_Identifier</th>\n",
       "      <th>Outlet_Establishment_Year</th>\n",
       "      <th>Outlet_Size</th>\n",
       "      <th>Outlet_Location_Type</th>\n",
       "      <th>Outlet_Type</th>\n",
       "      <th>Item_Outlet_Sales</th>\n",
       "    </tr>\n",
       "  </thead>\n",
       "  <tbody>\n",
       "    <tr>\n",
       "      <th>0</th>\n",
       "      <td>FDA15</td>\n",
       "      <td>9.30</td>\n",
       "      <td>Low Fat</td>\n",
       "      <td>0.016047</td>\n",
       "      <td>Dairy</td>\n",
       "      <td>249.8092</td>\n",
       "      <td>OUT049</td>\n",
       "      <td>1999</td>\n",
       "      <td>Medium</td>\n",
       "      <td>Tier 1</td>\n",
       "      <td>Supermarket Type1</td>\n",
       "      <td>3735.1380</td>\n",
       "    </tr>\n",
       "    <tr>\n",
       "      <th>1</th>\n",
       "      <td>DRC01</td>\n",
       "      <td>5.92</td>\n",
       "      <td>Regular</td>\n",
       "      <td>0.019278</td>\n",
       "      <td>Soft Drinks</td>\n",
       "      <td>48.2692</td>\n",
       "      <td>OUT018</td>\n",
       "      <td>2009</td>\n",
       "      <td>Medium</td>\n",
       "      <td>Tier 3</td>\n",
       "      <td>Supermarket Type2</td>\n",
       "      <td>443.4228</td>\n",
       "    </tr>\n",
       "    <tr>\n",
       "      <th>2</th>\n",
       "      <td>FDN15</td>\n",
       "      <td>17.50</td>\n",
       "      <td>Low Fat</td>\n",
       "      <td>0.016760</td>\n",
       "      <td>Meat</td>\n",
       "      <td>141.6180</td>\n",
       "      <td>OUT049</td>\n",
       "      <td>1999</td>\n",
       "      <td>Medium</td>\n",
       "      <td>Tier 1</td>\n",
       "      <td>Supermarket Type1</td>\n",
       "      <td>2097.2700</td>\n",
       "    </tr>\n",
       "    <tr>\n",
       "      <th>3</th>\n",
       "      <td>FDX07</td>\n",
       "      <td>19.20</td>\n",
       "      <td>Regular</td>\n",
       "      <td>0.000000</td>\n",
       "      <td>Fruits and Vegetables</td>\n",
       "      <td>182.0950</td>\n",
       "      <td>OUT010</td>\n",
       "      <td>1998</td>\n",
       "      <td>NaN</td>\n",
       "      <td>Tier 3</td>\n",
       "      <td>Grocery Store</td>\n",
       "      <td>732.3800</td>\n",
       "    </tr>\n",
       "    <tr>\n",
       "      <th>4</th>\n",
       "      <td>NCD19</td>\n",
       "      <td>8.93</td>\n",
       "      <td>Low Fat</td>\n",
       "      <td>0.000000</td>\n",
       "      <td>Household</td>\n",
       "      <td>53.8614</td>\n",
       "      <td>OUT013</td>\n",
       "      <td>1987</td>\n",
       "      <td>High</td>\n",
       "      <td>Tier 3</td>\n",
       "      <td>Supermarket Type1</td>\n",
       "      <td>994.7052</td>\n",
       "    </tr>\n",
       "  </tbody>\n",
       "</table>\n",
       "</div>"
      ],
      "text/plain": [
       "  Item_Identifier  Item_Weight Item_Fat_Content  Item_Visibility  \\\n",
       "0           FDA15         9.30          Low Fat         0.016047   \n",
       "1           DRC01         5.92          Regular         0.019278   \n",
       "2           FDN15        17.50          Low Fat         0.016760   \n",
       "3           FDX07        19.20          Regular         0.000000   \n",
       "4           NCD19         8.93          Low Fat         0.000000   \n",
       "\n",
       "               Item_Type  Item_MRP Outlet_Identifier  \\\n",
       "0                  Dairy  249.8092            OUT049   \n",
       "1            Soft Drinks   48.2692            OUT018   \n",
       "2                   Meat  141.6180            OUT049   \n",
       "3  Fruits and Vegetables  182.0950            OUT010   \n",
       "4              Household   53.8614            OUT013   \n",
       "\n",
       "   Outlet_Establishment_Year Outlet_Size Outlet_Location_Type  \\\n",
       "0                       1999      Medium               Tier 1   \n",
       "1                       2009      Medium               Tier 3   \n",
       "2                       1999      Medium               Tier 1   \n",
       "3                       1998         NaN               Tier 3   \n",
       "4                       1987        High               Tier 3   \n",
       "\n",
       "         Outlet_Type  Item_Outlet_Sales  \n",
       "0  Supermarket Type1          3735.1380  \n",
       "1  Supermarket Type2           443.4228  \n",
       "2  Supermarket Type1          2097.2700  \n",
       "3      Grocery Store           732.3800  \n",
       "4  Supermarket Type1           994.7052  "
      ]
     },
     "execution_count": 2,
     "metadata": {},
     "output_type": "execute_result"
    }
   ],
   "source": [
    "dataset =  pd.read_csv('Train_UWu5bXk.csv')\n",
    "dataset.head()"
   ]
  },
  {
   "cell_type": "markdown",
   "metadata": {},
   "source": [
    "## Data Munging\n",
    "Now that we have the data in a dataset, first thing that we will do is check what all columns have missing values and come up with a way to impute these missing values"
   ]
  },
  {
   "cell_type": "code",
   "execution_count": 3,
   "metadata": {},
   "outputs": [
    {
     "data": {
      "text/plain": [
       "Item_Identifier                 0\n",
       "Item_Weight                  1463\n",
       "Item_Fat_Content                0\n",
       "Item_Visibility                 0\n",
       "Item_Type                       0\n",
       "Item_MRP                        0\n",
       "Outlet_Identifier               0\n",
       "Outlet_Establishment_Year       0\n",
       "Outlet_Size                  2410\n",
       "Outlet_Location_Type            0\n",
       "Outlet_Type                     0\n",
       "Item_Outlet_Sales               0\n",
       "dtype: int64"
      ]
     },
     "execution_count": 3,
     "metadata": {},
     "output_type": "execute_result"
    }
   ],
   "source": [
    "dataset.apply(lambda x:sum(x.isnull()),axis=0)"
   ]
  },
  {
   "cell_type": "markdown",
   "metadata": {},
   "source": [
    "Only two columns (Item_weight and Outlet_size) have missing values. "
   ]
  },
  {
   "cell_type": "markdown",
   "metadata": {},
   "source": [
    "### Outlet_Size \n",
    "Let's start with Outlet_size. A good strategy would be look at other feautres in the data and see if they can provide some clue to what could be the possible value for Outlet_size. The Outlet_type can be a good candidate to look at. The type of store should tell what the size of the outlet might be. \n",
    "<br><br>\n",
    "Let's group the data on outlet type and see where all the missing values falls"
   ]
  },
  {
   "cell_type": "code",
   "execution_count": 4,
   "metadata": {},
   "outputs": [
    {
     "data": {
      "text/html": [
       "<div>\n",
       "<style scoped>\n",
       "    .dataframe tbody tr th:only-of-type {\n",
       "        vertical-align: middle;\n",
       "    }\n",
       "\n",
       "    .dataframe tbody tr th {\n",
       "        vertical-align: top;\n",
       "    }\n",
       "\n",
       "    .dataframe thead th {\n",
       "        text-align: right;\n",
       "    }\n",
       "</style>\n",
       "<table border=\"1\" class=\"dataframe\">\n",
       "  <thead>\n",
       "    <tr style=\"text-align: right;\">\n",
       "      <th></th>\n",
       "      <th>Outlet_Type</th>\n",
       "      <th>Outlet_Size</th>\n",
       "    </tr>\n",
       "  </thead>\n",
       "  <tbody>\n",
       "    <tr>\n",
       "      <th>0</th>\n",
       "      <td>Grocery Store</td>\n",
       "      <td>555</td>\n",
       "    </tr>\n",
       "    <tr>\n",
       "      <th>1</th>\n",
       "      <td>Supermarket Type1</td>\n",
       "      <td>1855</td>\n",
       "    </tr>\n",
       "  </tbody>\n",
       "</table>\n",
       "</div>"
      ],
      "text/plain": [
       "         Outlet_Type  Outlet_Size\n",
       "0      Grocery Store          555\n",
       "1  Supermarket Type1         1855"
      ]
     },
     "execution_count": 4,
     "metadata": {},
     "output_type": "execute_result"
    }
   ],
   "source": [
    "dataset[dataset['Outlet_Size'].isnull()].groupby('Outlet_Type')['Outlet_Size'].apply(lambda x : sum(x.isnull())).reset_index()"
   ]
  },
  {
   "cell_type": "markdown",
   "metadata": {},
   "source": [
    "So only outlet_type 'Grocery Store' and 'Supermarket Type 1' have missing values for outlet size. Let's see what is the dominent  value for outlet size is for these two type of outlets"
   ]
  },
  {
   "cell_type": "code",
   "execution_count": 5,
   "metadata": {
    "scrolled": true
   },
   "outputs": [
    {
     "data": {
      "text/html": [
       "<div>\n",
       "<style scoped>\n",
       "    .dataframe tbody tr th:only-of-type {\n",
       "        vertical-align: middle;\n",
       "    }\n",
       "\n",
       "    .dataframe tbody tr th {\n",
       "        vertical-align: top;\n",
       "    }\n",
       "\n",
       "    .dataframe thead th {\n",
       "        text-align: right;\n",
       "    }\n",
       "</style>\n",
       "<table border=\"1\" class=\"dataframe\">\n",
       "  <thead>\n",
       "    <tr style=\"text-align: right;\">\n",
       "      <th>Outlet_Size</th>\n",
       "      <th>High</th>\n",
       "      <th>Medium</th>\n",
       "      <th>Small</th>\n",
       "    </tr>\n",
       "    <tr>\n",
       "      <th>Outlet_Type</th>\n",
       "      <th></th>\n",
       "      <th></th>\n",
       "      <th></th>\n",
       "    </tr>\n",
       "  </thead>\n",
       "  <tbody>\n",
       "    <tr>\n",
       "      <th>Grocery Store</th>\n",
       "      <td>0</td>\n",
       "      <td>0</td>\n",
       "      <td>528</td>\n",
       "    </tr>\n",
       "    <tr>\n",
       "      <th>Supermarket Type1</th>\n",
       "      <td>932</td>\n",
       "      <td>930</td>\n",
       "      <td>1860</td>\n",
       "    </tr>\n",
       "    <tr>\n",
       "      <th>Supermarket Type2</th>\n",
       "      <td>0</td>\n",
       "      <td>928</td>\n",
       "      <td>0</td>\n",
       "    </tr>\n",
       "    <tr>\n",
       "      <th>Supermarket Type3</th>\n",
       "      <td>0</td>\n",
       "      <td>935</td>\n",
       "      <td>0</td>\n",
       "    </tr>\n",
       "  </tbody>\n",
       "</table>\n",
       "</div>"
      ],
      "text/plain": [
       "Outlet_Size        High  Medium  Small\n",
       "Outlet_Type                           \n",
       "Grocery Store         0       0    528\n",
       "Supermarket Type1   932     930   1860\n",
       "Supermarket Type2     0     928      0\n",
       "Supermarket Type3     0     935      0"
      ]
     },
     "execution_count": 5,
     "metadata": {},
     "output_type": "execute_result"
    }
   ],
   "source": [
    "pd.crosstab(dataset['Outlet_Type'],dataset['Outlet_Size'])"
   ]
  },
  {
   "cell_type": "markdown",
   "metadata": {},
   "source": [
    "All the Grocery Stores are of Small size. So it makes sens to update the missing values of outlet size for store type as Grocery Store as 'Small'\n",
    "<br><br>\n",
    "For Stores of type 'Supermarket Type 1' the dominent store size is Small. Although its not a clear indicator, it is unlikely to hurt the final prediction much if we assume that the missing store size for store type 'Supermarket Type 1' is Small."
   ]
  },
  {
   "cell_type": "code",
   "execution_count": 6,
   "metadata": {},
   "outputs": [],
   "source": [
    "dataset.loc[(dataset['Outlet_Type']=='Grocery Store') & (dataset['Outlet_Size'].isnull()),'Outlet_Size'] = 'Small'\n",
    "dataset.loc[(dataset['Outlet_Type'] == 'Supermarket Type1') & (dataset['Outlet_Size'].isnull()),'Outlet_Size'] = 'Small'"
   ]
  },
  {
   "cell_type": "markdown",
   "metadata": {},
   "source": [
    "### Item_weight\n",
    "Next we will look at the item weights. Here again we will look at the other features in the data to impute missing values for the Item_weight column.\n",
    "<br><br>\n",
    "A simple strategy would be to look at the Item_type and Item_Fat_content and impute the missing value for item_weight with the avarage weight for the item of same type and with same fat content\n",
    "<br><br>\n",
    "But before we do that we need to clean the Item_fat_content values a bit. Lets see what all unique values are given for this column."
   ]
  },
  {
   "cell_type": "code",
   "execution_count": 7,
   "metadata": {},
   "outputs": [
    {
     "data": {
      "text/plain": [
       "array(['Low Fat', 'Regular', 'low fat', 'LF', 'reg'], dtype=object)"
      ]
     },
     "execution_count": 7,
     "metadata": {},
     "output_type": "execute_result"
    }
   ],
   "source": [
    "dataset['Item_Fat_Content'].unique()"
   ]
  },
  {
   "cell_type": "markdown",
   "metadata": {},
   "source": [
    "let us replace 'reg' with 'Regular'\n",
    "<br>\n",
    "and 'LF' & 'low fat' with 'Low Fat'"
   ]
  },
  {
   "cell_type": "code",
   "execution_count": 8,
   "metadata": {},
   "outputs": [],
   "source": [
    "dataset.loc[(dataset['Item_Fat_Content']=='LF'),'Item_Fat_Content'] = 'Low Fat'\n",
    "dataset.loc[(dataset['Item_Fat_Content']=='low fat'),'Item_Fat_Content'] = 'Low Fat'\n",
    "dataset.loc[(dataset['Item_Fat_Content']=='reg'),'Item_Fat_Content'] = 'Regular'"
   ]
  },
  {
   "cell_type": "markdown",
   "metadata": {},
   "source": [
    "Now we can fix the missing values for the Item_weight column"
   ]
  },
  {
   "cell_type": "code",
   "execution_count": 9,
   "metadata": {},
   "outputs": [],
   "source": [
    "Item_Types = dataset['Item_Type'].unique()\n",
    "for item_type in Item_Types:\n",
    "    for fat_con in ['Regular','Low Fat']:\n",
    "        mean_weight = dataset[(dataset['Item_Weight'].notnull())&\n",
    "                             (dataset['Item_Type'] == item_type)&\n",
    "                             (dataset['Item_Fat_Content'] == fat_con)]['Item_Weight'].mean()\n",
    "        if np.isnan(mean_weight):\n",
    "            continue\n",
    "        dataset.loc[(dataset['Item_Weight'].isnull())&\n",
    "               (dataset['Item_Type']==item_type)&\n",
    "               (dataset['Item_Fat_Content'] == fat_con),'Item_Weight'] = mean_weight"
   ]
  },
  {
   "cell_type": "markdown",
   "metadata": {},
   "source": [
    "### Outlet_Establishment_Year\n",
    "This column contains the year when the outlet was established. As such it doesn't seems to be a helpful feature for a learning model. But we can create a new feature which can give a notion of the outlet age. Since it is fair to assume that age of store can potentially play a role in the over all sales from the store (older store may have steadier stream of customers then a new one), this new feature can be helpful for the learning model.\n",
    "<br><br>\n",
    "Let's calculate the Outlet_age column by subtracting value of Outlet_Establishment_Year from the max value of the column (which is 2009). "
   ]
  },
  {
   "cell_type": "code",
   "execution_count": 10,
   "metadata": {},
   "outputs": [],
   "source": [
    "dataset['outlet_age'] = dataset['Outlet_Establishment_Year'].max() - dataset['Outlet_Establishment_Year']"
   ]
  },
  {
   "cell_type": "markdown",
   "metadata": {},
   "source": [
    "## Descriptive Analysis\n",
    "Now as we have cleaned our data, we can do some Descriptive Analysis before we jump onto building Machine Learning Models"
   ]
  },
  {
   "cell_type": "code",
   "execution_count": 11,
   "metadata": {},
   "outputs": [],
   "source": [
    "dataset = dataset[['Item_Identifier','Item_Weight','Item_Fat_Content','Item_Visibility','Item_Type','Item_MRP',\n",
    "                  'Outlet_Identifier','outlet_age','Outlet_Size','Outlet_Location_Type','Outlet_Type','Item_Outlet_Sales']]"
   ]
  },
  {
   "cell_type": "markdown",
   "metadata": {},
   "source": [
    "<b>Top 10 Selling Items</b>\n",
    "<br>\n",
    "What are the top 10 selling Items?"
   ]
  },
  {
   "cell_type": "code",
   "execution_count": 12,
   "metadata": {},
   "outputs": [
    {
     "data": {
      "text/html": [
       "<div>\n",
       "<style scoped>\n",
       "    .dataframe tbody tr th:only-of-type {\n",
       "        vertical-align: middle;\n",
       "    }\n",
       "\n",
       "    .dataframe tbody tr th {\n",
       "        vertical-align: top;\n",
       "    }\n",
       "\n",
       "    .dataframe thead th {\n",
       "        text-align: right;\n",
       "    }\n",
       "</style>\n",
       "<table border=\"1\" class=\"dataframe\">\n",
       "  <thead>\n",
       "    <tr style=\"text-align: right;\">\n",
       "      <th></th>\n",
       "      <th>Item_Identifier</th>\n",
       "      <th>Item_Outlet_Sales</th>\n",
       "    </tr>\n",
       "  </thead>\n",
       "  <tbody>\n",
       "    <tr>\n",
       "      <th>1210</th>\n",
       "      <td>FDY55</td>\n",
       "      <td>42661.8008</td>\n",
       "    </tr>\n",
       "    <tr>\n",
       "      <th>156</th>\n",
       "      <td>FDA15</td>\n",
       "      <td>41584.5364</td>\n",
       "    </tr>\n",
       "    <tr>\n",
       "      <th>1230</th>\n",
       "      <td>FDZ20</td>\n",
       "      <td>40185.0248</td>\n",
       "    </tr>\n",
       "    <tr>\n",
       "      <th>359</th>\n",
       "      <td>FDF05</td>\n",
       "      <td>36555.7490</td>\n",
       "    </tr>\n",
       "    <tr>\n",
       "      <th>148</th>\n",
       "      <td>FDA04</td>\n",
       "      <td>35741.4756</td>\n",
       "    </tr>\n",
       "    <tr>\n",
       "      <th>544</th>\n",
       "      <td>FDK03</td>\n",
       "      <td>34843.9772</td>\n",
       "    </tr>\n",
       "    <tr>\n",
       "      <th>1454</th>\n",
       "      <td>NCQ06</td>\n",
       "      <td>34680.1904</td>\n",
       "    </tr>\n",
       "    <tr>\n",
       "      <th>1464</th>\n",
       "      <td>NCQ53</td>\n",
       "      <td>34508.4140</td>\n",
       "    </tr>\n",
       "    <tr>\n",
       "      <th>538</th>\n",
       "      <td>FDJ55</td>\n",
       "      <td>33531.0196</td>\n",
       "    </tr>\n",
       "    <tr>\n",
       "      <th>305</th>\n",
       "      <td>FDD44</td>\n",
       "      <td>32723.4042</td>\n",
       "    </tr>\n",
       "  </tbody>\n",
       "</table>\n",
       "</div>"
      ],
      "text/plain": [
       "     Item_Identifier  Item_Outlet_Sales\n",
       "1210           FDY55         42661.8008\n",
       "156            FDA15         41584.5364\n",
       "1230           FDZ20         40185.0248\n",
       "359            FDF05         36555.7490\n",
       "148            FDA04         35741.4756\n",
       "544            FDK03         34843.9772\n",
       "1454           NCQ06         34680.1904\n",
       "1464           NCQ53         34508.4140\n",
       "538            FDJ55         33531.0196\n",
       "305            FDD44         32723.4042"
      ]
     },
     "execution_count": 12,
     "metadata": {},
     "output_type": "execute_result"
    }
   ],
   "source": [
    "dataset.groupby('Item_Identifier')['Item_Outlet_Sales'].sum().reset_index().sort_values('Item_Outlet_Sales',\n",
    "                                                                                        ascending=False).head(10)"
   ]
  },
  {
   "cell_type": "markdown",
   "metadata": {},
   "source": [
    "<b>Top Selling Items in each store</b>\n",
    "<br>\n",
    "What are the top 10 selling Items in each store?"
   ]
  },
  {
   "cell_type": "code",
   "execution_count": 13,
   "metadata": {},
   "outputs": [
    {
     "data": {
      "text/html": [
       "<div>\n",
       "<style scoped>\n",
       "    .dataframe tbody tr th:only-of-type {\n",
       "        vertical-align: middle;\n",
       "    }\n",
       "\n",
       "    .dataframe tbody tr th {\n",
       "        vertical-align: top;\n",
       "    }\n",
       "\n",
       "    .dataframe thead th {\n",
       "        text-align: right;\n",
       "    }\n",
       "</style>\n",
       "<table border=\"1\" class=\"dataframe\">\n",
       "  <thead>\n",
       "    <tr style=\"text-align: right;\">\n",
       "      <th></th>\n",
       "      <th>Outlet_Identifier</th>\n",
       "      <th>Item_Identifier</th>\n",
       "      <th>Item_Outlet_Sales</th>\n",
       "    </tr>\n",
       "  </thead>\n",
       "  <tbody>\n",
       "    <tr>\n",
       "      <th>7188</th>\n",
       "      <td>OUT027</td>\n",
       "      <td>NCE42</td>\n",
       "      <td>13086.9648</td>\n",
       "    </tr>\n",
       "    <tr>\n",
       "      <th>4888</th>\n",
       "      <td>OUT013</td>\n",
       "      <td>FDF39</td>\n",
       "      <td>10256.6490</td>\n",
       "    </tr>\n",
       "    <tr>\n",
       "      <th>4289</th>\n",
       "      <td>OUT046</td>\n",
       "      <td>NCM05</td>\n",
       "      <td>9779.9362</td>\n",
       "    </tr>\n",
       "    <tr>\n",
       "      <th>4961</th>\n",
       "      <td>OUT017</td>\n",
       "      <td>FDK03</td>\n",
       "      <td>9664.7528</td>\n",
       "    </tr>\n",
       "    <tr>\n",
       "      <th>8039</th>\n",
       "      <td>OUT045</td>\n",
       "      <td>FDY55</td>\n",
       "      <td>8994.9580</td>\n",
       "    </tr>\n",
       "    <tr>\n",
       "      <th>5752</th>\n",
       "      <td>OUT035</td>\n",
       "      <td>FDI15</td>\n",
       "      <td>8479.6288</td>\n",
       "    </tr>\n",
       "    <tr>\n",
       "      <th>1506</th>\n",
       "      <td>OUT049</td>\n",
       "      <td>FDB15</td>\n",
       "      <td>7646.0472</td>\n",
       "    </tr>\n",
       "    <tr>\n",
       "      <th>43</th>\n",
       "      <td>OUT018</td>\n",
       "      <td>FDC02</td>\n",
       "      <td>6768.5228</td>\n",
       "    </tr>\n",
       "    <tr>\n",
       "      <th>7759</th>\n",
       "      <td>OUT010</td>\n",
       "      <td>NCK30</td>\n",
       "      <td>1775.6886</td>\n",
       "    </tr>\n",
       "    <tr>\n",
       "      <th>8353</th>\n",
       "      <td>OUT019</td>\n",
       "      <td>NCX41</td>\n",
       "      <td>1482.0708</td>\n",
       "    </tr>\n",
       "  </tbody>\n",
       "</table>\n",
       "</div>"
      ],
      "text/plain": [
       "     Outlet_Identifier Item_Identifier  Item_Outlet_Sales\n",
       "7188            OUT027           NCE42         13086.9648\n",
       "4888            OUT013           FDF39         10256.6490\n",
       "4289            OUT046           NCM05          9779.9362\n",
       "4961            OUT017           FDK03          9664.7528\n",
       "8039            OUT045           FDY55          8994.9580\n",
       "5752            OUT035           FDI15          8479.6288\n",
       "1506            OUT049           FDB15          7646.0472\n",
       "43              OUT018           FDC02          6768.5228\n",
       "7759            OUT010           NCK30          1775.6886\n",
       "8353            OUT019           NCX41          1482.0708"
      ]
     },
     "execution_count": 13,
     "metadata": {},
     "output_type": "execute_result"
    }
   ],
   "source": [
    "idx = dataset['Item_Outlet_Sales'] == dataset.groupby(['Outlet_Identifier'])['Item_Outlet_Sales'].transform(max)\n",
    "dataset[idx][['Outlet_Identifier','Item_Identifier','Item_Outlet_Sales']].sort_values('Item_Outlet_Sales',ascending=False)"
   ]
  },
  {
   "cell_type": "markdown",
   "metadata": {},
   "source": [
    "<b>Top 10 Selling item typese</b>\n",
    "<br>\n",
    "What are the top 10 selling Items types?"
   ]
  },
  {
   "cell_type": "code",
   "execution_count": 14,
   "metadata": {},
   "outputs": [
    {
     "data": {
      "text/html": [
       "<div>\n",
       "<style scoped>\n",
       "    .dataframe tbody tr th:only-of-type {\n",
       "        vertical-align: middle;\n",
       "    }\n",
       "\n",
       "    .dataframe tbody tr th {\n",
       "        vertical-align: top;\n",
       "    }\n",
       "\n",
       "    .dataframe thead th {\n",
       "        text-align: right;\n",
       "    }\n",
       "</style>\n",
       "<table border=\"1\" class=\"dataframe\">\n",
       "  <thead>\n",
       "    <tr style=\"text-align: right;\">\n",
       "      <th></th>\n",
       "      <th>Item_Type</th>\n",
       "      <th>Item_Outlet_Sales</th>\n",
       "    </tr>\n",
       "  </thead>\n",
       "  <tbody>\n",
       "    <tr>\n",
       "      <th>6</th>\n",
       "      <td>Fruits and Vegetables</td>\n",
       "      <td>2.820060e+06</td>\n",
       "    </tr>\n",
       "    <tr>\n",
       "      <th>13</th>\n",
       "      <td>Snack Foods</td>\n",
       "      <td>2.732786e+06</td>\n",
       "    </tr>\n",
       "    <tr>\n",
       "      <th>9</th>\n",
       "      <td>Household</td>\n",
       "      <td>2.055494e+06</td>\n",
       "    </tr>\n",
       "    <tr>\n",
       "      <th>5</th>\n",
       "      <td>Frozen Foods</td>\n",
       "      <td>1.825735e+06</td>\n",
       "    </tr>\n",
       "    <tr>\n",
       "      <th>4</th>\n",
       "      <td>Dairy</td>\n",
       "      <td>1.522594e+06</td>\n",
       "    </tr>\n",
       "    <tr>\n",
       "      <th>3</th>\n",
       "      <td>Canned</td>\n",
       "      <td>1.444151e+06</td>\n",
       "    </tr>\n",
       "    <tr>\n",
       "      <th>0</th>\n",
       "      <td>Baking Goods</td>\n",
       "      <td>1.265525e+06</td>\n",
       "    </tr>\n",
       "    <tr>\n",
       "      <th>8</th>\n",
       "      <td>Health and Hygiene</td>\n",
       "      <td>1.045200e+06</td>\n",
       "    </tr>\n",
       "    <tr>\n",
       "      <th>10</th>\n",
       "      <td>Meat</td>\n",
       "      <td>9.175656e+05</td>\n",
       "    </tr>\n",
       "    <tr>\n",
       "      <th>14</th>\n",
       "      <td>Soft Drinks</td>\n",
       "      <td>8.928977e+05</td>\n",
       "    </tr>\n",
       "  </tbody>\n",
       "</table>\n",
       "</div>"
      ],
      "text/plain": [
       "                Item_Type  Item_Outlet_Sales\n",
       "6   Fruits and Vegetables       2.820060e+06\n",
       "13            Snack Foods       2.732786e+06\n",
       "9               Household       2.055494e+06\n",
       "5            Frozen Foods       1.825735e+06\n",
       "4                   Dairy       1.522594e+06\n",
       "3                  Canned       1.444151e+06\n",
       "0            Baking Goods       1.265525e+06\n",
       "8      Health and Hygiene       1.045200e+06\n",
       "10                   Meat       9.175656e+05\n",
       "14            Soft Drinks       8.928977e+05"
      ]
     },
     "execution_count": 14,
     "metadata": {},
     "output_type": "execute_result"
    }
   ],
   "source": [
    "dataset.groupby('Item_Type')['Item_Outlet_Sales'].sum().reset_index().sort_values('Item_Outlet_Sales',\n",
    "                                                                                 ascending=False).head(10)"
   ]
  },
  {
   "cell_type": "markdown",
   "metadata": {},
   "source": [
    "<b>Top selling item in each item type</b>\n",
    "<br>\n",
    "What is the top selling item in each Item Type?"
   ]
  },
  {
   "cell_type": "code",
   "execution_count": 15,
   "metadata": {},
   "outputs": [
    {
     "data": {
      "text/html": [
       "<div>\n",
       "<style scoped>\n",
       "    .dataframe tbody tr th:only-of-type {\n",
       "        vertical-align: middle;\n",
       "    }\n",
       "\n",
       "    .dataframe tbody tr th {\n",
       "        vertical-align: top;\n",
       "    }\n",
       "\n",
       "    .dataframe thead th {\n",
       "        text-align: right;\n",
       "    }\n",
       "</style>\n",
       "<table border=\"1\" class=\"dataframe\">\n",
       "  <thead>\n",
       "    <tr style=\"text-align: right;\">\n",
       "      <th></th>\n",
       "      <th>Item_Type</th>\n",
       "      <th>Item_Identifier</th>\n",
       "      <th>Item_Outlet_Sales</th>\n",
       "    </tr>\n",
       "  </thead>\n",
       "  <tbody>\n",
       "    <tr>\n",
       "      <th>7188</th>\n",
       "      <td>Household</td>\n",
       "      <td>NCE42</td>\n",
       "      <td>13086.9648</td>\n",
       "    </tr>\n",
       "    <tr>\n",
       "      <th>5223</th>\n",
       "      <td>Fruits and Vegetables</td>\n",
       "      <td>FDQ19</td>\n",
       "      <td>12117.5600</td>\n",
       "    </tr>\n",
       "    <tr>\n",
       "      <th>4349</th>\n",
       "      <td>Snack Foods</td>\n",
       "      <td>FDP33</td>\n",
       "      <td>10993.6896</td>\n",
       "    </tr>\n",
       "    <tr>\n",
       "      <th>6541</th>\n",
       "      <td>Canned</td>\n",
       "      <td>FDI50</td>\n",
       "      <td>10306.5840</td>\n",
       "    </tr>\n",
       "    <tr>\n",
       "      <th>4888</th>\n",
       "      <td>Dairy</td>\n",
       "      <td>FDF39</td>\n",
       "      <td>10256.6490</td>\n",
       "    </tr>\n",
       "    <tr>\n",
       "      <th>4289</th>\n",
       "      <td>Health and Hygiene</td>\n",
       "      <td>NCM05</td>\n",
       "      <td>9779.9362</td>\n",
       "    </tr>\n",
       "    <tr>\n",
       "      <th>7752</th>\n",
       "      <td>Frozen Foods</td>\n",
       "      <td>FDC17</td>\n",
       "      <td>9678.0688</td>\n",
       "    </tr>\n",
       "    <tr>\n",
       "      <th>6606</th>\n",
       "      <td>Soft Drinks</td>\n",
       "      <td>DRF36</td>\n",
       "      <td>9554.2300</td>\n",
       "    </tr>\n",
       "    <tr>\n",
       "      <th>8201</th>\n",
       "      <td>Meat</td>\n",
       "      <td>FDO03</td>\n",
       "      <td>9390.4432</td>\n",
       "    </tr>\n",
       "    <tr>\n",
       "      <th>3757</th>\n",
       "      <td>Breads</td>\n",
       "      <td>FDR35</td>\n",
       "      <td>8958.3390</td>\n",
       "    </tr>\n",
       "  </tbody>\n",
       "</table>\n",
       "</div>"
      ],
      "text/plain": [
       "                  Item_Type Item_Identifier  Item_Outlet_Sales\n",
       "7188              Household           NCE42         13086.9648\n",
       "5223  Fruits and Vegetables           FDQ19         12117.5600\n",
       "4349            Snack Foods           FDP33         10993.6896\n",
       "6541                 Canned           FDI50         10306.5840\n",
       "4888                  Dairy           FDF39         10256.6490\n",
       "4289     Health and Hygiene           NCM05          9779.9362\n",
       "7752           Frozen Foods           FDC17          9678.0688\n",
       "6606            Soft Drinks           DRF36          9554.2300\n",
       "8201                   Meat           FDO03          9390.4432\n",
       "3757                 Breads           FDR35          8958.3390"
      ]
     },
     "execution_count": 15,
     "metadata": {},
     "output_type": "execute_result"
    }
   ],
   "source": [
    "idx = dataset['Item_Outlet_Sales'] == dataset.groupby(['Item_Type'])['Item_Outlet_Sales'].transform(max)\n",
    "dataset[idx][['Item_Type','Item_Identifier','Item_Outlet_Sales']].sort_values('Item_Outlet_Sales',\n",
    "                                                                             ascending=False).head(10)"
   ]
  },
  {
   "cell_type": "markdown",
   "metadata": {},
   "source": [
    "<b> Item Visibility vs Item sales </b>\n",
    "<br>\n",
    "How does Item Sales vary with Item visibility?\n",
    "<br> From below plot it is hard to draw any conclusions. if anything the sales seems to be droping as visibility increases beyond an point, which seems counterintutive to me."
   ]
  },
  {
   "cell_type": "code",
   "execution_count": 16,
   "metadata": {},
   "outputs": [
    {
     "data": {
      "image/png": "[encoded data removed]",
      "text/plain": [
       "<matplotlib.figure.Figure at 0x1db8a824828>"
      ]
     },
     "metadata": {},
     "output_type": "display_data"
    }
   ],
   "source": [
    "ds = dataset[['Item_Visibility','Item_Outlet_Sales']].sort_values('Item_Visibility', ascending=True)\n",
    "\n",
    "fig, ax = plt.subplots()\n",
    "ax.scatter(ds['Item_Visibility'],ds['Item_Outlet_Sales'])\n",
    "ax.set(xlabel='Item Visibility',ylabel='Item Outles Sales',title='Visibility vs Sales')\n",
    "ax.grid()\n",
    "plt.show()"
   ]
  },
  {
   "cell_type": "markdown",
   "metadata": {},
   "source": [
    "<b> Outlet Age vs Sales </b>\n",
    "<br> How does item sales vary with Outlet Age?\n",
    "<br> Again no clear trend. The sales stays alomost flat. The sharp dip is due to the fact that no store falls under that age range. It shoots up around 25 but what to conclude from it??"
   ]
  },
  {
   "cell_type": "code",
   "execution_count": 17,
   "metadata": {},
   "outputs": [
    {
     "data": {
      "image/png": "[encoded data removed]",
      "text/plain": [
       "<matplotlib.figure.Figure at 0x1db8a824dd8>"
      ]
     },
     "metadata": {},
     "output_type": "display_data"
    }
   ],
   "source": [
    "#ds = dataset[['outlet_age','Item_Outlet_Sales']].sort_values('outlet_age',ascending=True)\n",
    "ds = dataset.groupby('outlet_age')['Item_Outlet_Sales'].sum().reset_index().sort_values('outlet_age')\n",
    "fig, ax = plt.subplots()\n",
    "ax.plot(ds['outlet_age'],ds['Item_Outlet_Sales'])\n",
    "ax.set(xlabel='outlet Age',ylabel='Item Outlet Sales',title='Age Vs Sales')\n",
    "ax.grid()\n",
    "plt.show()"
   ]
  },
  {
   "cell_type": "markdown",
   "metadata": {},
   "source": [
    "<b> Sales per store size </b>\n",
    "<br>\n",
    "What are sales figures for each store size?\n",
    "<br> The small size outlets are making 48% the over all thing. "
   ]
  },
  {
   "cell_type": "code",
   "execution_count": 18,
   "metadata": {},
   "outputs": [
    {
     "data": {
      "text/html": [
       "<div>\n",
       "<style scoped>\n",
       "    .dataframe tbody tr th:only-of-type {\n",
       "        vertical-align: middle;\n",
       "    }\n",
       "\n",
       "    .dataframe tbody tr th {\n",
       "        vertical-align: top;\n",
       "    }\n",
       "\n",
       "    .dataframe thead th {\n",
       "        text-align: right;\n",
       "    }\n",
       "</style>\n",
       "<table border=\"1\" class=\"dataframe\">\n",
       "  <thead>\n",
       "    <tr style=\"text-align: right;\">\n",
       "      <th></th>\n",
       "      <th>Outlet_Size</th>\n",
       "      <th>sales_percent</th>\n",
       "    </tr>\n",
       "  </thead>\n",
       "  <tbody>\n",
       "    <tr>\n",
       "      <th>2</th>\n",
       "      <td>Small</td>\n",
       "      <td>48.188278</td>\n",
       "    </tr>\n",
       "    <tr>\n",
       "      <th>1</th>\n",
       "      <td>Medium</td>\n",
       "      <td>40.286527</td>\n",
       "    </tr>\n",
       "    <tr>\n",
       "      <th>0</th>\n",
       "      <td>High</td>\n",
       "      <td>11.525196</td>\n",
       "    </tr>\n",
       "  </tbody>\n",
       "</table>\n",
       "</div>"
      ],
      "text/plain": [
       "  Outlet_Size  sales_percent\n",
       "2       Small      48.188278\n",
       "1      Medium      40.286527\n",
       "0        High      11.525196"
      ]
     },
     "execution_count": 18,
     "metadata": {},
     "output_type": "execute_result"
    }
   ],
   "source": [
    "total_Sales = dataset['Item_Outlet_Sales'].sum()\n",
    "ds = dataset[['Outlet_Size','Item_Outlet_Sales']].copy()\n",
    "ds['sales_percent'] = (ds['Item_Outlet_Sales']/total_Sales)*100\n",
    "ds = ds.groupby('Outlet_Size')['sales_percent'].sum().reset_index().sort_values('sales_percent',ascending=False)\n",
    "ds.head()"
   ]
  },
  {
   "cell_type": "markdown",
   "metadata": {},
   "source": [
    "<b> Top selling item per location type </b>\n",
    "<br>\n",
    "What is the top selling item at each of the location type?"
   ]
  },
  {
   "cell_type": "code",
   "execution_count": 19,
   "metadata": {},
   "outputs": [
    {
     "data": {
      "text/html": [
       "<div>\n",
       "<style scoped>\n",
       "    .dataframe tbody tr th:only-of-type {\n",
       "        vertical-align: middle;\n",
       "    }\n",
       "\n",
       "    .dataframe tbody tr th {\n",
       "        vertical-align: top;\n",
       "    }\n",
       "\n",
       "    .dataframe thead th {\n",
       "        text-align: right;\n",
       "    }\n",
       "</style>\n",
       "<table border=\"1\" class=\"dataframe\">\n",
       "  <thead>\n",
       "    <tr style=\"text-align: right;\">\n",
       "      <th></th>\n",
       "      <th>Outlet_Location_Type</th>\n",
       "      <th>Item_Identifier</th>\n",
       "      <th>Item_Outlet_Sales</th>\n",
       "    </tr>\n",
       "  </thead>\n",
       "  <tbody>\n",
       "    <tr>\n",
       "      <th>7188</th>\n",
       "      <td>Tier 3</td>\n",
       "      <td>NCE42</td>\n",
       "      <td>13086.9648</td>\n",
       "    </tr>\n",
       "    <tr>\n",
       "      <th>4289</th>\n",
       "      <td>Tier 1</td>\n",
       "      <td>NCM05</td>\n",
       "      <td>9779.9362</td>\n",
       "    </tr>\n",
       "    <tr>\n",
       "      <th>4961</th>\n",
       "      <td>Tier 2</td>\n",
       "      <td>FDK03</td>\n",
       "      <td>9664.7528</td>\n",
       "    </tr>\n",
       "  </tbody>\n",
       "</table>\n",
       "</div>"
      ],
      "text/plain": [
       "     Outlet_Location_Type Item_Identifier  Item_Outlet_Sales\n",
       "7188               Tier 3           NCE42         13086.9648\n",
       "4289               Tier 1           NCM05          9779.9362\n",
       "4961               Tier 2           FDK03          9664.7528"
      ]
     },
     "execution_count": 19,
     "metadata": {},
     "output_type": "execute_result"
    }
   ],
   "source": [
    "idx = dataset['Item_Outlet_Sales'] == dataset.groupby('Outlet_Location_Type')['Item_Outlet_Sales'].transform(max)\n",
    "dataset[idx][['Outlet_Location_Type','Item_Identifier','Item_Outlet_Sales']].sort_values('Item_Outlet_Sales',\n",
    "                                                                                         ascending=False).head()"
   ]
  },
  {
   "cell_type": "markdown",
   "metadata": {},
   "source": [
    "## Data Scrubbing \n",
    "For the lack of a better word I am calling the following operation as Data Scrubbling operation. By doing this we will convert our data into a form which can be fed to a machine learning model. Here is a list of operations we will perfrom\n",
    "<br> 1) <b>Drop identifiers</b> : we will drop Item_identifier and Outlet_identifier column as they are of no use for a machine Learning model.\n",
    "<br> 2) <b> Normalization </b> : we will normalized the Item_weight,Item_MRP, and Outlet_age columns so that they do not dominate the other categorical features\n",
    "<br> 3) <b> Digitization </b> : for thr Item_Fat_content column let's map 'Low Fat' to 0 and 'Regular' to 1\n",
    "<br> 4) <b> Dummy features </b> : Lastly we will convert the Item Type, Outlet_size, Outlet_loc, and outlet_location_type to one hot vectors."
   ]
  },
  {
   "cell_type": "code",
   "execution_count": 20,
   "metadata": {},
   "outputs": [],
   "source": [
    "dataset = dataset.drop(columns=['Item_Identifier','Outlet_Identifier'])\n",
    "\n",
    "max_weight = dataset['Item_Weight'].max()\n",
    "min_weight = dataset['Item_Weight'].min()\n",
    "dataset['Item_Weight'] = (dataset['Item_Weight']- min_weight)/(max_weight-min_weight)\n",
    "\n",
    "max_mrp = dataset['Item_MRP'].max()\n",
    "min_mrp = dataset['Item_MRP'].min()\n",
    "dataset['Item_MRP'] = (dataset['Item_MRP']-min_mrp)/(max_mrp-min_mrp)\n",
    "\n",
    "max_age = dataset['outlet_age'].max()\n",
    "min_age = dataset['outlet_age'].min()\n",
    "dataset['outlet_age'] = (dataset['outlet_age']-min_age)/(max_age-min_age)\n",
    "\n",
    "dataset['Item_Fat_Content'] = dataset['Item_Fat_Content'].map({'Low Fat':0,'Regular':1})\n",
    "\n",
    "item_type_dummy = pd.get_dummies(dataset['Item_Type'],prefix='item_type')\n",
    "outlet_size_dummy = pd.get_dummies(dataset['Outlet_Size'],prefix='Outlet_Size')\n",
    "outlet_loc_dummy = pd.get_dummies(dataset['Outlet_Location_Type'],prefix='Outlet_Location_Type')\n",
    "outlet_type_dummy = pd.get_dummies(dataset['Outlet_Type'],prefix='Outlet_Type')\n",
    "\n",
    "dataset = pd.concat((dataset,item_type_dummy,outlet_size_dummy,outlet_loc_dummy,outlet_type_dummy),axis=1)\n",
    "\n",
    "dataset = dataset[['Item_Weight','Item_Fat_Content','Item_Visibility','item_type_Baking Goods','item_type_Breads',\n",
    "                  'item_type_Breakfast','item_type_Canned','item_type_Dairy','item_type_Frozen Foods',\n",
    "                  'item_type_Fruits and Vegetables','item_type_Hard Drinks','item_type_Health and Hygiene',\n",
    "                 'item_type_Household','item_type_Meat','item_type_Others','item_type_Seafood','item_type_Snack Foods',\n",
    "                 'item_type_Soft Drinks','item_type_Starchy Foods','Item_MRP','outlet_age','Outlet_Size_High',\n",
    "                 'Outlet_Size_Medium','Outlet_Size_Small','Outlet_Location_Type_Tier 1','Outlet_Location_Type_Tier 2',\n",
    "                 'Outlet_Location_Type_Tier 3','Outlet_Type_Grocery Store','Outlet_Type_Supermarket Type1',\n",
    "                 'Outlet_Type_Supermarket Type2','Outlet_Type_Supermarket Type3','Item_Outlet_Sales']]"
   ]
  },
  {
   "cell_type": "markdown",
   "metadata": {},
   "source": [
    "Let's Save the ready to Train data as new CSV file."
   ]
  },
  {
   "cell_type": "code",
   "execution_count": 118,
   "metadata": {},
   "outputs": [],
   "source": [
    "dataset.to_csv('ready_to_train.csv',sep=',',index=False)"
   ]
  },
  {
   "cell_type": "markdown",
   "metadata": {},
   "source": [
    "## Training \n",
    "Ready to train!"
   ]
  },
  {
   "cell_type": "code",
   "execution_count": 21,
   "metadata": {},
   "outputs": [
    {
     "data": {
      "text/html": [
       "<div>\n",
       "<style scoped>\n",
       "    .dataframe tbody tr th:only-of-type {\n",
       "        vertical-align: middle;\n",
       "    }\n",
       "\n",
       "    .dataframe tbody tr th {\n",
       "        vertical-align: top;\n",
       "    }\n",
       "\n",
       "    .dataframe thead th {\n",
       "        text-align: right;\n",
       "    }\n",
       "</style>\n",
       "<table border=\"1\" class=\"dataframe\">\n",
       "  <thead>\n",
       "    <tr style=\"text-align: right;\">\n",
       "      <th></th>\n",
       "      <th>Item_Weight</th>\n",
       "      <th>Item_Fat_Content</th>\n",
       "      <th>Item_Visibility</th>\n",
       "      <th>item_type_Baking Goods</th>\n",
       "      <th>item_type_Breads</th>\n",
       "      <th>item_type_Breakfast</th>\n",
       "      <th>item_type_Canned</th>\n",
       "      <th>item_type_Dairy</th>\n",
       "      <th>item_type_Frozen Foods</th>\n",
       "      <th>item_type_Fruits and Vegetables</th>\n",
       "      <th>...</th>\n",
       "      <th>Outlet_Size_Medium</th>\n",
       "      <th>Outlet_Size_Small</th>\n",
       "      <th>Outlet_Location_Type_Tier 1</th>\n",
       "      <th>Outlet_Location_Type_Tier 2</th>\n",
       "      <th>Outlet_Location_Type_Tier 3</th>\n",
       "      <th>Outlet_Type_Grocery Store</th>\n",
       "      <th>Outlet_Type_Supermarket Type1</th>\n",
       "      <th>Outlet_Type_Supermarket Type2</th>\n",
       "      <th>Outlet_Type_Supermarket Type3</th>\n",
       "      <th>Item_Outlet_Sales</th>\n",
       "    </tr>\n",
       "  </thead>\n",
       "  <tbody>\n",
       "    <tr>\n",
       "      <th>0</th>\n",
       "      <td>0.282525</td>\n",
       "      <td>0</td>\n",
       "      <td>0.016047</td>\n",
       "      <td>0</td>\n",
       "      <td>0</td>\n",
       "      <td>0</td>\n",
       "      <td>0</td>\n",
       "      <td>1</td>\n",
       "      <td>0</td>\n",
       "      <td>0</td>\n",
       "      <td>...</td>\n",
       "      <td>1</td>\n",
       "      <td>0</td>\n",
       "      <td>1</td>\n",
       "      <td>0</td>\n",
       "      <td>0</td>\n",
       "      <td>0</td>\n",
       "      <td>1</td>\n",
       "      <td>0</td>\n",
       "      <td>0</td>\n",
       "      <td>3735.1380</td>\n",
       "    </tr>\n",
       "    <tr>\n",
       "      <th>1</th>\n",
       "      <td>0.081274</td>\n",
       "      <td>1</td>\n",
       "      <td>0.019278</td>\n",
       "      <td>0</td>\n",
       "      <td>0</td>\n",
       "      <td>0</td>\n",
       "      <td>0</td>\n",
       "      <td>0</td>\n",
       "      <td>0</td>\n",
       "      <td>0</td>\n",
       "      <td>...</td>\n",
       "      <td>1</td>\n",
       "      <td>0</td>\n",
       "      <td>0</td>\n",
       "      <td>0</td>\n",
       "      <td>1</td>\n",
       "      <td>0</td>\n",
       "      <td>0</td>\n",
       "      <td>1</td>\n",
       "      <td>0</td>\n",
       "      <td>443.4228</td>\n",
       "    </tr>\n",
       "    <tr>\n",
       "      <th>2</th>\n",
       "      <td>0.770765</td>\n",
       "      <td>0</td>\n",
       "      <td>0.016760</td>\n",
       "      <td>0</td>\n",
       "      <td>0</td>\n",
       "      <td>0</td>\n",
       "      <td>0</td>\n",
       "      <td>0</td>\n",
       "      <td>0</td>\n",
       "      <td>0</td>\n",
       "      <td>...</td>\n",
       "      <td>1</td>\n",
       "      <td>0</td>\n",
       "      <td>1</td>\n",
       "      <td>0</td>\n",
       "      <td>0</td>\n",
       "      <td>0</td>\n",
       "      <td>1</td>\n",
       "      <td>0</td>\n",
       "      <td>0</td>\n",
       "      <td>2097.2700</td>\n",
       "    </tr>\n",
       "    <tr>\n",
       "      <th>3</th>\n",
       "      <td>0.871986</td>\n",
       "      <td>1</td>\n",
       "      <td>0.000000</td>\n",
       "      <td>0</td>\n",
       "      <td>0</td>\n",
       "      <td>0</td>\n",
       "      <td>0</td>\n",
       "      <td>0</td>\n",
       "      <td>0</td>\n",
       "      <td>1</td>\n",
       "      <td>...</td>\n",
       "      <td>0</td>\n",
       "      <td>1</td>\n",
       "      <td>0</td>\n",
       "      <td>0</td>\n",
       "      <td>1</td>\n",
       "      <td>1</td>\n",
       "      <td>0</td>\n",
       "      <td>0</td>\n",
       "      <td>0</td>\n",
       "      <td>732.3800</td>\n",
       "    </tr>\n",
       "    <tr>\n",
       "      <th>4</th>\n",
       "      <td>0.260494</td>\n",
       "      <td>0</td>\n",
       "      <td>0.000000</td>\n",
       "      <td>0</td>\n",
       "      <td>0</td>\n",
       "      <td>0</td>\n",
       "      <td>0</td>\n",
       "      <td>0</td>\n",
       "      <td>0</td>\n",
       "      <td>0</td>\n",
       "      <td>...</td>\n",
       "      <td>0</td>\n",
       "      <td>0</td>\n",
       "      <td>0</td>\n",
       "      <td>0</td>\n",
       "      <td>1</td>\n",
       "      <td>0</td>\n",
       "      <td>1</td>\n",
       "      <td>0</td>\n",
       "      <td>0</td>\n",
       "      <td>994.7052</td>\n",
       "    </tr>\n",
       "    <tr>\n",
       "      <th>5</th>\n",
       "      <td>0.347723</td>\n",
       "      <td>1</td>\n",
       "      <td>0.000000</td>\n",
       "      <td>1</td>\n",
       "      <td>0</td>\n",
       "      <td>0</td>\n",
       "      <td>0</td>\n",
       "      <td>0</td>\n",
       "      <td>0</td>\n",
       "      <td>0</td>\n",
       "      <td>...</td>\n",
       "      <td>1</td>\n",
       "      <td>0</td>\n",
       "      <td>0</td>\n",
       "      <td>0</td>\n",
       "      <td>1</td>\n",
       "      <td>0</td>\n",
       "      <td>0</td>\n",
       "      <td>1</td>\n",
       "      <td>0</td>\n",
       "      <td>556.6088</td>\n",
       "    </tr>\n",
       "    <tr>\n",
       "      <th>6</th>\n",
       "      <td>0.541530</td>\n",
       "      <td>1</td>\n",
       "      <td>0.012741</td>\n",
       "      <td>0</td>\n",
       "      <td>0</td>\n",
       "      <td>0</td>\n",
       "      <td>0</td>\n",
       "      <td>0</td>\n",
       "      <td>0</td>\n",
       "      <td>0</td>\n",
       "      <td>...</td>\n",
       "      <td>0</td>\n",
       "      <td>0</td>\n",
       "      <td>0</td>\n",
       "      <td>0</td>\n",
       "      <td>1</td>\n",
       "      <td>0</td>\n",
       "      <td>1</td>\n",
       "      <td>0</td>\n",
       "      <td>0</td>\n",
       "      <td>343.5528</td>\n",
       "    </tr>\n",
       "    <tr>\n",
       "      <th>7</th>\n",
       "      <td>0.544935</td>\n",
       "      <td>0</td>\n",
       "      <td>0.127470</td>\n",
       "      <td>0</td>\n",
       "      <td>0</td>\n",
       "      <td>0</td>\n",
       "      <td>0</td>\n",
       "      <td>0</td>\n",
       "      <td>0</td>\n",
       "      <td>0</td>\n",
       "      <td>...</td>\n",
       "      <td>1</td>\n",
       "      <td>0</td>\n",
       "      <td>0</td>\n",
       "      <td>0</td>\n",
       "      <td>1</td>\n",
       "      <td>0</td>\n",
       "      <td>0</td>\n",
       "      <td>0</td>\n",
       "      <td>1</td>\n",
       "      <td>4022.7636</td>\n",
       "    </tr>\n",
       "    <tr>\n",
       "      <th>8</th>\n",
       "      <td>0.693361</td>\n",
       "      <td>1</td>\n",
       "      <td>0.016687</td>\n",
       "      <td>0</td>\n",
       "      <td>0</td>\n",
       "      <td>0</td>\n",
       "      <td>0</td>\n",
       "      <td>0</td>\n",
       "      <td>1</td>\n",
       "      <td>0</td>\n",
       "      <td>...</td>\n",
       "      <td>0</td>\n",
       "      <td>1</td>\n",
       "      <td>0</td>\n",
       "      <td>1</td>\n",
       "      <td>0</td>\n",
       "      <td>0</td>\n",
       "      <td>1</td>\n",
       "      <td>0</td>\n",
       "      <td>0</td>\n",
       "      <td>1076.5986</td>\n",
       "    </tr>\n",
       "    <tr>\n",
       "      <th>9</th>\n",
       "      <td>0.871986</td>\n",
       "      <td>1</td>\n",
       "      <td>0.094450</td>\n",
       "      <td>0</td>\n",
       "      <td>0</td>\n",
       "      <td>0</td>\n",
       "      <td>0</td>\n",
       "      <td>0</td>\n",
       "      <td>1</td>\n",
       "      <td>0</td>\n",
       "      <td>...</td>\n",
       "      <td>0</td>\n",
       "      <td>1</td>\n",
       "      <td>0</td>\n",
       "      <td>1</td>\n",
       "      <td>0</td>\n",
       "      <td>0</td>\n",
       "      <td>1</td>\n",
       "      <td>0</td>\n",
       "      <td>0</td>\n",
       "      <td>4710.5350</td>\n",
       "    </tr>\n",
       "  </tbody>\n",
       "</table>\n",
       "<p>10 rows × 32 columns</p>\n",
       "</div>"
      ],
      "text/plain": [
       "   Item_Weight  Item_Fat_Content  Item_Visibility  item_type_Baking Goods  \\\n",
       "0     0.282525                 0         0.016047                       0   \n",
       "1     0.081274                 1         0.019278                       0   \n",
       "2     0.770765                 0         0.016760                       0   \n",
       "3     0.871986                 1         0.000000                       0   \n",
       "4     0.260494                 0         0.000000                       0   \n",
       "5     0.347723                 1         0.000000                       1   \n",
       "6     0.541530                 1         0.012741                       0   \n",
       "7     0.544935                 0         0.127470                       0   \n",
       "8     0.693361                 1         0.016687                       0   \n",
       "9     0.871986                 1         0.094450                       0   \n",
       "\n",
       "   item_type_Breads  item_type_Breakfast  item_type_Canned  item_type_Dairy  \\\n",
       "0                 0                    0                 0                1   \n",
       "1                 0                    0                 0                0   \n",
       "2                 0                    0                 0                0   \n",
       "3                 0                    0                 0                0   \n",
       "4                 0                    0                 0                0   \n",
       "5                 0                    0                 0                0   \n",
       "6                 0                    0                 0                0   \n",
       "7                 0                    0                 0                0   \n",
       "8                 0                    0                 0                0   \n",
       "9                 0                    0                 0                0   \n",
       "\n",
       "   item_type_Frozen Foods  item_type_Fruits and Vegetables        ...          \\\n",
       "0                       0                                0        ...           \n",
       "1                       0                                0        ...           \n",
       "2                       0                                0        ...           \n",
       "3                       0                                1        ...           \n",
       "4                       0                                0        ...           \n",
       "5                       0                                0        ...           \n",
       "6                       0                                0        ...           \n",
       "7                       0                                0        ...           \n",
       "8                       1                                0        ...           \n",
       "9                       1                                0        ...           \n",
       "\n",
       "   Outlet_Size_Medium  Outlet_Size_Small  Outlet_Location_Type_Tier 1  \\\n",
       "0                   1                  0                            1   \n",
       "1                   1                  0                            0   \n",
       "2                   1                  0                            1   \n",
       "3                   0                  1                            0   \n",
       "4                   0                  0                            0   \n",
       "5                   1                  0                            0   \n",
       "6                   0                  0                            0   \n",
       "7                   1                  0                            0   \n",
       "8                   0                  1                            0   \n",
       "9                   0                  1                            0   \n",
       "\n",
       "   Outlet_Location_Type_Tier 2  Outlet_Location_Type_Tier 3  \\\n",
       "0                            0                            0   \n",
       "1                            0                            1   \n",
       "2                            0                            0   \n",
       "3                            0                            1   \n",
       "4                            0                            1   \n",
       "5                            0                            1   \n",
       "6                            0                            1   \n",
       "7                            0                            1   \n",
       "8                            1                            0   \n",
       "9                            1                            0   \n",
       "\n",
       "   Outlet_Type_Grocery Store  Outlet_Type_Supermarket Type1  \\\n",
       "0                          0                              1   \n",
       "1                          0                              0   \n",
       "2                          0                              1   \n",
       "3                          1                              0   \n",
       "4                          0                              1   \n",
       "5                          0                              0   \n",
       "6                          0                              1   \n",
       "7                          0                              0   \n",
       "8                          0                              1   \n",
       "9                          0                              1   \n",
       "\n",
       "   Outlet_Type_Supermarket Type2  Outlet_Type_Supermarket Type3  \\\n",
       "0                              0                              0   \n",
       "1                              1                              0   \n",
       "2                              0                              0   \n",
       "3                              0                              0   \n",
       "4                              0                              0   \n",
       "5                              1                              0   \n",
       "6                              0                              0   \n",
       "7                              0                              1   \n",
       "8                              0                              0   \n",
       "9                              0                              0   \n",
       "\n",
       "   Item_Outlet_Sales  \n",
       "0          3735.1380  \n",
       "1           443.4228  \n",
       "2          2097.2700  \n",
       "3           732.3800  \n",
       "4           994.7052  \n",
       "5           556.6088  \n",
       "6           343.5528  \n",
       "7          4022.7636  \n",
       "8          1076.5986  \n",
       "9          4710.5350  \n",
       "\n",
       "[10 rows x 32 columns]"
      ]
     },
     "execution_count": 21,
     "metadata": {},
     "output_type": "execute_result"
    }
   ],
   "source": [
    "dataset = pd.read_csv('ready_to_train.csv')\n",
    "dataset.head(10)"
   ]
  },
  {
   "cell_type": "code",
   "execution_count": 22,
   "metadata": {},
   "outputs": [],
   "source": [
    "linreg = LinearRegression()"
   ]
  },
  {
   "cell_type": "code",
   "execution_count": 59,
   "metadata": {
    "scrolled": false
   },
   "outputs": [
    {
     "name": "stdout",
     "output_type": "stream",
     "text": [
      "training for lr: 0.6\n",
      "iteration  0 / 10000  loss: [1.62906516e+10]\n",
      "iteration  1000 / 10000  loss: [212.70168352]\n",
      "iteration  2000 / 10000  loss: [85.20003404]\n",
      "iteration  3000 / 10000  loss: [34.33066437]\n",
      "iteration  4000 / 10000  loss: [13.84987952]\n",
      "iteration  5000 / 10000  loss: [5.58988869]\n",
      "iteration  6000 / 10000  loss: [2.2564937]\n",
      "iteration  7000 / 10000  loss: [0.91094736]\n",
      "iteration  8000 / 10000  loss: [0.36775891]\n",
      "iteration  9000 / 10000  loss: [0.14846949]\n"
     ]
    },
    {
     "data": {
      "image/png": "[encoded data removed]",
      "text/plain": [
       "<matplotlib.figure.Figure at 0x1e18dc3a7b8>"
      ]
     },
     "metadata": {},
     "output_type": "display_data"
    },
    {
     "name": "stdout",
     "output_type": "stream",
     "text": [
      "training for lr: 0.61\n",
      "iteration  0 / 10000  loss: [1.62906516e+10]\n",
      "iteration  1000 / 10000  loss: [209.43926068]\n",
      "iteration  2000 / 10000  loss: [82.65362986]\n",
      "iteration  3000 / 10000  loss: [32.80633178]\n",
      "iteration  4000 / 10000  loss: [13.03666062]\n",
      "iteration  5000 / 10000  loss: [5.18278205]\n",
      "iteration  6000 / 10000  loss: [2.06077279]\n",
      "iteration  7000 / 10000  loss: [0.81945254]\n",
      "iteration  8000 / 10000  loss: [0.32585731]\n",
      "iteration  9000 / 10000  loss: [0.12957908]\n"
     ]
    },
    {
     "data": {
      "image/png": "[encoded data removed]",
      "text/plain": [
       "<matplotlib.figure.Figure at 0x1e18f84bc50>"
      ]
     },
     "metadata": {},
     "output_type": "display_data"
    },
    {
     "name": "stdout",
     "output_type": "stream",
     "text": [
      "training for lr: 0.62\n",
      "iteration  0 / 10000  loss: [1.62906516e+10]\n",
      "iteration  1000 / 10000  loss: [206.23033649]\n",
      "iteration  2000 / 10000  loss: [80.18361156]\n",
      "iteration  3000 / 10000  loss: [31.34975231]\n",
      "iteration  4000 / 10000  loss: [12.27120674]\n",
      "iteration  5000 / 10000  loss: [4.80532674]\n",
      "iteration  6000 / 10000  loss: [1.88202781]\n",
      "iteration  7000 / 10000  loss: [0.73714701]\n",
      "iteration  8000 / 10000  loss: [0.28872966]\n",
      "iteration  9000 / 10000  loss: [0.11309206]\n"
     ]
    },
    {
     "data": {
      "image/png": "[encoded data removed]",
      "text/plain": [
       "<matplotlib.figure.Figure at 0x1e18d549748>"
      ]
     },
     "metadata": {},
     "output_type": "display_data"
    },
    {
     "name": "stdout",
     "output_type": "stream",
     "text": [
      "training for lr: 0.63\n",
      "iteration  0 / 10000  loss: [1.62906516e+10]\n",
      "iteration  1000 / 10000  loss: [2.21649907e+14]\n",
      "iteration  2000 / 10000  loss: [2.98991707e+18]\n",
      "iteration  3000 / 10000  loss: [4.03321669e+22]\n",
      "iteration  4000 / 10000  loss: [5.44056462e+26]\n",
      "iteration  5000 / 10000  loss: [7.33899159e+30]\n",
      "iteration  6000 / 10000  loss: [9.8998544e+34]\n",
      "iteration  7000 / 10000  loss: [1.3354303e+39]\n",
      "iteration  8000 / 10000  loss: [1.80141445e+43]\n",
      "iteration  9000 / 10000  loss: [2.4299988e+47]\n"
     ]
    },
    {
     "data": {
      "image/png": "[encoded data removed]",
      "text/plain": [
       "<matplotlib.figure.Figure at 0x1e18d361668>"
      ]
     },
     "metadata": {},
     "output_type": "display_data"
    },
    {
     "name": "stdout",
     "output_type": "stream",
     "text": [
      "lowest test rmse: [8.09681536e+25]  acheived for lr: 0.62\n"
     ]
    }
   ],
   "source": [
    "num_iter = 10000\n",
    "learning_rate = np.array((0.6,0.61,0.62,0.63))\n",
    "verbose = True\n",
    "print_every = 1000\n",
    "test_size = 0.2\n",
    "train_ds,test_ds = train_test_split(dataset,test_size =test_size)\n",
    "best_w = []\n",
    "best_lr = 0.0\n",
    "\n",
    "best_w = linreg.fit(train_ds,10,0.0,print_every,verbose=False)\n",
    "best_rmse = linreg.score(train_ds,best_w)\n",
    "\n",
    "for lr in learning_rate:\n",
    "    print('training for lr:',lr)\n",
    "    w = linreg.fit(train_ds,num_iter,lr,print_every,verbose)\n",
    "    rmse = linreg.score(train_ds,w)\n",
    "    if rmse < best_rmse:\n",
    "        best_rmse = rmse\n",
    "        best_w = w\n",
    "        best_lr = lr\n",
    "test_rmse = linreg.score(train_ds,w)\n",
    "print('lowest test rmse:',test_rmse,' acheived for lr:',best_lr)"
   ]
  },
  {
   "cell_type": "code",
   "execution_count": 2,
   "metadata": {},
   "outputs": [
    {
     "name": "stdout",
     "output_type": "stream",
     "text": [
      "Classic Linear Regression Object created\n"
     ]
    }
   ],
   "source": [
    "linReg = ClassicLinearRegression()"
   ]
  },
  {
   "cell_type": "code",
   "execution_count": 11,
   "metadata": {},
   "outputs": [
    {
     "data": {
      "text/html": [
       "<div>\n",
       "<style scoped>\n",
       "    .dataframe tbody tr th:only-of-type {\n",
       "        vertical-align: middle;\n",
       "    }\n",
       "\n",
       "    .dataframe tbody tr th {\n",
       "        vertical-align: top;\n",
       "    }\n",
       "\n",
       "    .dataframe thead th {\n",
       "        text-align: right;\n",
       "    }\n",
       "</style>\n",
       "<table border=\"1\" class=\"dataframe\">\n",
       "  <thead>\n",
       "    <tr style=\"text-align: right;\">\n",
       "      <th></th>\n",
       "      <th>x1</th>\n",
       "      <th>y</th>\n",
       "    </tr>\n",
       "  </thead>\n",
       "  <tbody>\n",
       "    <tr>\n",
       "      <th>0</th>\n",
       "      <td>18</td>\n",
       "      <td>45</td>\n",
       "    </tr>\n",
       "    <tr>\n",
       "      <th>1</th>\n",
       "      <td>25</td>\n",
       "      <td>58</td>\n",
       "    </tr>\n",
       "    <tr>\n",
       "      <th>2</th>\n",
       "      <td>15</td>\n",
       "      <td>50</td>\n",
       "    </tr>\n",
       "    <tr>\n",
       "      <th>3</th>\n",
       "      <td>22</td>\n",
       "      <td>54</td>\n",
       "    </tr>\n",
       "    <tr>\n",
       "      <th>4</th>\n",
       "      <td>24</td>\n",
       "      <td>62</td>\n",
       "    </tr>\n",
       "  </tbody>\n",
       "</table>\n",
       "</div>"
      ],
      "text/plain": [
       "   x1   y\n",
       "0  18  45\n",
       "1  25  58\n",
       "2  15  50\n",
       "3  22  54\n",
       "4  24  62"
      ]
     },
     "execution_count": 11,
     "metadata": {},
     "output_type": "execute_result"
    }
   ],
   "source": [
    "#dataset = pd.read_csv('car_sales.csv')\n",
    "data = {'x1':[18,25,15,22,24,20],'y':[45,58,50,54,62,53]}\n",
    "dataset = pd.DataFrame.from_dict(data)\n",
    "dataset.head()"
   ]
  },
  {
   "cell_type": "code",
   "execution_count": 12,
   "metadata": {},
   "outputs": [
    {
     "name": "stdout",
     "output_type": "stream",
     "text": [
      "b_hat [27.20560748  1.28037383]\n"
     ]
    }
   ],
   "source": [
    "test_size = 0.0\n",
    "train_ds,test_ds = train_test_split(dataset,test_size =test_size)\n",
    "b_hat = linReg.fit(train_ds)\n",
    "print('b_hat',b_hat)"
   ]
  },
  {
   "cell_type": "code",
   "execution_count": 14,
   "metadata": {},
   "outputs": [],
   "source": [
    "#x = np.array((0,1.8,150,102.6,68.2,178,2.998,16.4,27)).reshape(1,-1)\n",
    "#y_pred = linReg.predict(x,b_hat)\n",
    "#print(y_pred)"
   ]
  },
  {
   "cell_type": "code",
   "execution_count": 38,
   "metadata": {},
   "outputs": [
    {
     "name": "stdout",
     "output_type": "stream",
     "text": [
      "----------------------\n",
      "Regression Statistics\n",
      "----------------------\n",
      "Multiple R: 0.8120595161187781\n",
      "R Square: 0.659440657719064\n",
      "Adjusted R Sqaure: 0.57430082214883\n",
      "Standard Error of Regression: 3.885631331086557\n",
      "observations: 6\n",
      "----------------------\n",
      "---------------------------------------------------------------------------\n",
      "ANOVA\n",
      "---------------------------------------------------------------------------\n",
      "             DF                 SS        MS         F       Significance F\n",
      "---------------------------------------------------------------------------\n",
      "Regression   1     116.94080996884813    116.94080996884813    9.681729082843352    0.026504340022839412\n",
      "Residual     5    60.39252336448598    12.078504672897196\n",
      "Total        6    177.3333333333341\n",
      "--------------------------------------------------------------------------\n",
      "----------------------\n",
      "Covariance Matrix\n",
      "----------------------\n",
      "[[92.91700148 -4.37422482]\n",
      " [-4.37422482  0.21165604]]\n",
      "----------------------\n",
      "---------------------------------------------------------------------------------\n",
      "Regression Output\n",
      "---------------------------------------------------------------------------------\n",
      "Coefficients      Standard Error     t-Stat    p-value    lower 95%    upper 95%\n",
      "---------------------------------------------------------------------------------\n",
      "[[2.72056075e+01 9.63934653e+00 2.82234977e+00 9.04383272e-03]\n",
      " [1.28037383e+00 4.60060909e-01 2.78305287e+00 9.67451837e-03]]\n",
      "---------------------------------------------------------------------------------\n"
     ]
    }
   ],
   "source": [
    "linReg.regressionOutput(train_ds,b_hat)"
   ]
  },
  {
   "cell_type": "code",
   "execution_count": null,
   "metadata": {},
   "outputs": [],
   "source": []
  }
 ],
 "metadata": {
  "kernelspec": {
   "display_name": "Python 3",
   "language": "python",
   "name": "python3"
  },
  "language_info": {
   "codemirror_mode": {
    "name": "ipython",
    "version": 3
   },
   "file_extension": ".py",
   "mimetype": "text/x-python",
   "name": "python",
   "nbconvert_exporter": "python",
   "pygments_lexer": "ipython3",
   "version": "3.6.4"
  }
 },
 "nbformat": 4,
 "nbformat_minor": 2
}
